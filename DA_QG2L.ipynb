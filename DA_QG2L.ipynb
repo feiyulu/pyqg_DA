{
 "cells": [
  {
   "cell_type": "code",
   "execution_count": null,
   "id": "b6065ad6-ce03-4cf1-b819-1c92fb492a5e",
   "metadata": {
    "tags": []
   },
   "outputs": [],
   "source": [
    "import xarray as xr\n",
    "import numpy as np\n",
    "from matplotlib import pyplot as plt\n",
    "from ML_core import Unet,Unet_2L\n",
    "import DA_core as DA\n",
    "import importlib\n",
    "import torch\n",
    "from os.path import exists\n",
    "from torchsummary import summary\n",
    "DA_kwargs={}"
   ]
  },
  {
   "cell_type": "code",
   "execution_count": null,
   "id": "651e3aa7",
   "metadata": {
    "tags": []
   },
   "outputs": [],
   "source": [
    "importlib.reload(DA)"
   ]
  },
  {
   "attachments": {},
   "cell_type": "markdown",
   "id": "da6bacad-8001-403b-906a-6cfc5f8bfdd1",
   "metadata": {},
   "source": [
    "Workflow to run DA in PyQG\n",
    "\n",
    "Things to decide first:\n",
    "1. What are your \"truth\" and DA models: resolution (Nx_truth & Nx_DA), model parameters (set in DA_core), etc.\n",
    "2. What are the frequency, density and error of sampling the observations\n",
    "\n",
    "Files you need:\n",
    "1. IC_q_Nx{Nx_DA}_ens{1/100}.nc\n",
    "Spin up the model for initial conditions (ens_spinup): nens=1 for control and 3DVar, nens=100 for EnKF\n",
    "2. Truth_Nx{Nx_truth}_*years.nc and Obs_Nx{Nx_truth}_freq{obs_freq}_nobs{*_*}_err{*_*}.nc\n",
    "Run a control simulation and sample observations from it\n",
    "3. B_Nx{Nx_DA}_*years_2lev.nc\n",
    "Run a longer control simulation to sample the static background covariance for 3DVar or hybrid DA\n",
    "4. W_Nx{Nx_DA}_L*.nc\n",
    "Generate localization weights for specific DA model and localization radius\n",
    "\n",
    "Run DA experiment!"
   ]
  },
  {
   "cell_type": "code",
   "execution_count": null,
   "id": "542035a0",
   "metadata": {},
   "outputs": [],
   "source": [
    "# Setting up the truth, obs, etc\n",
    "DA_setup_paras={'nens':1,\n",
    "                'Nx_DA':32,          \n",
    "                'Nx_truth':32,          \n",
    "                'obs_freq':10,          \n",
    "                'obs_err':[1,-5,5,-7],          \n",
    "                'nobs':[50,50]}\n",
    "DA_setup=DA.DA_exp(**DA_setup_paras)"
   ]
  },
  {
   "cell_type": "code",
   "execution_count": null,
   "id": "f27d3e33",
   "metadata": {},
   "outputs": [],
   "source": [
    "ds_truth=DA_setup.read_truth(years=20)\n",
    "# ds_truth.q.isel(time=7299,lev=0).plot(size=10)\n",
    "patch_std=np.empty((2,31,31))\n",
    "for i in range(31):\n",
    "    for j in range(31):\n",
    "        patch=ds_truth.q.isel(x=slice(i*4,i*4+4),y=slice(j*4,j*4+4))\n",
    "        patch_std[:,i,j]=(patch.max(dim=('x','y'))-patch.min(dim=('x','y'))).mean('time').values\n",
    "\n",
    "plt.contourf(patch_std[0,:,:])\n",
    "plt.colorbar()"
   ]
  },
  {
   "cell_type": "code",
   "execution_count": null,
   "id": "05919f8d",
   "metadata": {},
   "outputs": [],
   "source": [
    "plt.contourf(patch_std[1,:,:])\n",
    "plt.colorbar()"
   ]
  },
  {
   "cell_type": "code",
   "execution_count": null,
   "id": "2a38c1c5",
   "metadata": {},
   "outputs": [],
   "source": [
    "# Coarsen resolution\n",
    "DA_setup.hires_to_lores(years=20)\n",
    "\n",
    "q_lo_ds=DA_setup.read_truth(years=20,interp=True)\n",
    "q_hi_ds=xr.open_dataset(q_lo_ds.attrs['source_file'])\n",
    "\n",
    "select_day=1825\n",
    "q_low=q_lo_ds.q.isel(time=select_day).squeeze('model')\n",
    "q_hi=q_hi_ds.q.isel(time=select_day).squeeze('model')\n",
    "fig, axes=plt.subplots(2,2,figsize=(10,8))\n",
    "for j,q,s in zip(range(2),[q_hi,q_low],[\"High\",\"Low\"]):\n",
    "    for i,clim in enumerate([4.0E-5,1.0E-6]):\n",
    "        im=axes[i,j].contourf(q.x/1.0E3,q.y/1.0E3,q.isel(lev=i),cmap='bwr',extend='both',\n",
    "                              levels=np.linspace(-clim,clim,21,endpoint=True))\n",
    "        plt.colorbar(im,ax=axes[i,j])\n",
    "        axes[i,j].set_title('{} Res (Lev {})'.format(s,i))"
   ]
  },
  {
   "cell_type": "code",
   "execution_count": null,
   "id": "21c4d2e8-c95c-43d2-9705-5a188f85fa24",
   "metadata": {
    "tags": []
   },
   "outputs": [],
   "source": [
    "## Spin up the model for IC\n",
    "q_init=DA_setup.ens_spinup(years=25)\n",
    "q_init"
   ]
  },
  {
   "cell_type": "code",
   "execution_count": null,
   "id": "2edca2b5-7ca8-4947-9fe7-33256d0ce03e",
   "metadata": {
    "tags": []
   },
   "outputs": [],
   "source": [
    "## Generate \"truth\"/control simulation\n",
    "try:\n",
    "    ds_truth=DA_setup.read_truth(years=10)\n",
    "except:\n",
    "    ds_truth=DA_setup.generate_truth(years=10)\n",
    "print(ds_truth)\n",
    "\n",
    "## Generate or read observations\n",
    "if exists(DA_setup.obs_name()):\n",
    "    obs_ds=DA_setup.read_obs()\n",
    "else:\n",
    "    obs_ds=DA_setup.generate_obs(years=10)\n",
    "\n",
    "print(obs_ds)\n",
    "\n",
    "## Visualize the generated observations\n",
    "truth_file=obs_ds.attrs['truth_file']\n",
    "truth_ds=xr.open_dataset(truth_file)\n",
    "\n",
    "select_day=364\n",
    "q=truth_ds.q.isel(time=select_day).squeeze('model')\n",
    "obs_q=obs_ds.q.isel(day=select_day)\n",
    "xi_q=obs_ds.xi.isel(day=select_day)\n",
    "yi_q=obs_ds.yi.isel(day=select_day)\n",
    "li_q=obs_ds.li.isel(day=select_day)\n",
    "x_q=obs_ds.x.data[xi_q]\n",
    "y_q=obs_ds.y.data[yi_q]\n",
    "fig, axes=plt.subplots(1,2,figsize=(16,6))\n",
    "for i in range(len(q.lev)):\n",
    "    im=axes[i].contourf(q.x,q.y,q.isel(lev=i),cmap='bwr',levels=20)\n",
    "    plt.colorbar(im,ax=axes[i])\n",
    "    \n",
    "    axes[i].scatter(x_q[li_q==i],y_q[li_q==i],c='k')\n",
    "    # axes[i].set_title('q (lev {}, {})'.format(i,np.timedelta64(q.time.values,'D')))"
   ]
  },
  {
   "cell_type": "code",
   "execution_count": null,
   "id": "010f813c",
   "metadata": {
    "tags": []
   },
   "outputs": [],
   "source": [
    "## Generate \"truth\"/control simulation\n",
    "ds_truth=DA_setup.generate_truth(years=100)\n",
    "print(ds_truth)\n",
    "\n",
    "# Calculate B matrix for 3DVar\n",
    "B_ds=DA.B_calculation_3DVar(Nx=DA_setup.Nx_DA,delta_days=50,years=100,coeff=1)\n",
    "\n",
    "select_x,select_y=np.array([20,20,20]),np.array([10,20,30])\n",
    "\n",
    "fig, axes=plt.subplots(len(select_x),3,figsize=(15,4*len(select_x)))\n",
    "for j,x,y in zip(range(len(select_x)),select_x,select_y):\n",
    "    xy0=x+y*DA_setup.Nx_DA\n",
    "    xy1=x+y*DA_setup.Nx_DA+DA_setup.Nx_DA*DA_setup.Nx_DA\n",
    "    corr_xy0=B_ds.corr.data[xy0,:].reshape(2,DA_setup.Nx_DA,DA_setup.Nx_DA)\n",
    "    corr_xy1=B_ds.corr.data[xy1,:].reshape(2,DA_setup.Nx_DA,DA_setup.Nx_DA)\n",
    "\n",
    "    im=axes[j,0].contourf(B_ds.x/1.0E3,B_ds.y/1.0E3,corr_xy0[0,:,:],cmap='bwr',levels=np.linspace(-1.05,1.05,22,endpoint=True))\n",
    "    plt.colorbar(im,ax=axes[j,0])\n",
    "    axes[j,0].set_title('Lev 0-0 correlation (y={},x={})'.format(y,x))\n",
    "\n",
    "    im=axes[j,1].contourf(B_ds.x/1.0E3,B_ds.y/1.0E3,corr_xy0[1,:,:],cmap='bwr',levels=np.linspace(-1.05,1.05,22,endpoint=True))\n",
    "    plt.colorbar(im,ax=axes[j,1])\n",
    "    axes[j,1].set_title('Lev 0-1 correlation (y={},x={})'.format(y,x))\n",
    "\n",
    "    im=axes[j,2].contourf(B_ds.x/1.0E3,B_ds.y/1.0E3,corr_xy1[1,:,:],cmap='bwr',levels=np.linspace(-1.05,1.05,22,endpoint=True))\n",
    "    plt.colorbar(im,ax=axes[j,2])\n",
    "    axes[j,2].set_title('Lev 1-1 correlation (y={},x={})'.format(y,x))"
   ]
  },
  {
   "cell_type": "code",
   "execution_count": null,
   "id": "995707d5-7497-47ec-a311-1171ecbc1767",
   "metadata": {
    "scrolled": true,
    "tags": []
   },
   "outputs": [],
   "source": [
    "for nens,relax in zip([20],[0.]):\n",
    "    DA_paras={'nens':nens,\n",
    "            'DA_method':'EnKF',\n",
    "            'Nx_DA':32,\n",
    "            'Nx_truth':128,\n",
    "            'obs_freq':10,\n",
    "            'obs_err':[1,-5,5,-7],\n",
    "            'nobs':[50,50],\n",
    "            'R_W':100,\n",
    "            'DA_freq':10,\n",
    "            'save_B':False,\n",
    "            'inflate':[1,relax],\n",
    "            'output_str':''}\n",
    "    DA_exp=DA.DA_exp(**DA_paras)\n",
    "    DA_exp.run_exp(DA_days=365,DA_start=0,**DA_kwargs)"
   ]
  },
  {
   "cell_type": "code",
   "execution_count": null,
   "id": "2a912e70",
   "metadata": {
    "tags": []
   },
   "outputs": [],
   "source": [
    "# Setting up DA experiment what was used to train Unet\n",
    "DA_training_paras={'nens':320,\n",
    "                   'DA_method':'EnKF',\n",
    "                   'Nx_DA':64,\n",
    "                   'Nx_truth':128,\n",
    "                   'obs_freq':10,\n",
    "                   'obs_err':[1,-5,5,-7],\n",
    "                   'DA_freq':10,\n",
    "                   'save_B':False,\n",
    "                   'nobs':[50,50],\n",
    "                   'R_W':100,\n",
    "                   'inflate':[1,0.45]}\n",
    "DA_training=DA.DA_exp(**DA_training_paras)"
   ]
  },
  {
   "cell_type": "code",
   "execution_count": null,
   "id": "ce514d83",
   "metadata": {},
   "outputs": [],
   "source": [
    "# Read trained Unet and normalization factors (standard deviations)\n",
    "in_ch=[0,1]\n",
    "out_ch=[0,1,2]\n",
    "epoch=49\n",
    "R_training=12\n",
    "R_DA=12\n",
    "features=32\n",
    "Ulevels=2\n",
    "if Ulevels==3:\n",
    "    model=Unet(in_ch=len(in_ch),out_ch=len(out_ch),features=features).double()\n",
    "elif Ulevels==2:\n",
    "    model=Unet_2L(in_ch=len(in_ch),out_ch=len(out_ch),features=features).double()\n",
    "model_file='./ML/{}/{}L_{}f/unet_epoch{}_in{}_out{}_B{}_{}.pt'.format(\n",
    "    DA_training.file_name(),Ulevels,features,epoch,''.join(map(str,in_ch)),''.join(map(str,out_ch)),R_training*2,DA_training.file_name())\n",
    "# model_file='./ML/unet_in{}_out{}_{}.pt'.format(''.join(map(str,in_ch)),''.join(map(str,out_ch)),DA_training.file_name())\n",
    "print(model_file)\n",
    "model.load_state_dict(torch.load(model_file))\n",
    "model.eval()\n",
    "ml_std_ds=xr.open_dataset('./ML/{0}/std_{0}.nc'.format(DA_training.file_name()))\n"
   ]
  },
  {
   "cell_type": "code",
   "execution_count": null,
   "id": "fb9f96e7",
   "metadata": {
    "scrolled": true,
    "tags": []
   },
   "outputs": [],
   "source": [
    "for R_W in [100]:\n",
    "    for nens,relax in zip([1],[0.0]):\n",
    "        DA_paras={'nens':nens,\n",
    "                'DA_method':'UnetKF',\n",
    "                'Nx_DA':64,\n",
    "                'Nx_truth':128,\n",
    "                'obs_freq':10,\n",
    "                'obs_err':[1,-5,5,-7],\n",
    "                'nobs':[50,50],\n",
    "                'R_W':R_W,\n",
    "                'DA_freq':10,\n",
    "                'save_B':False,\n",
    "                'inflate':[1,relax],\n",
    "                'B_alpha':0.0,\n",
    "                'R_training':R_training,\n",
    "                'R_DA':R_DA,\n",
    "                'training_exp':DA_training}\n",
    "        DA_exp=DA.DA_exp(**DA_paras)\n",
    "        \n",
    "        DA_kwargs['ml_model']=model\n",
    "        DA_kwargs['ml_std_ds']=ml_std_ds\n",
    "        DA_kwargs['output_str']=''\n",
    "        DA_kwargs['output_str']='UnetKF_Nx{}_128_ens{}_{}L{}f'.format(DA_exp.Nx_DA,DA_training.nens,Ulevels,features)\n",
    "\n",
    "        DA_exp.run_exp(DA_days=7300,DA_start=0,**DA_kwargs)"
   ]
  },
  {
   "cell_type": "code",
   "execution_count": null,
   "id": "112b0f69",
   "metadata": {},
   "outputs": [],
   "source": [
    "# Static localization weight matrix\n",
    "Nx_DA=DA_setup.Nx_DA\n",
    "R=75.0E3\n",
    "\n",
    "W_ds=DA.Localize_weights(Nx=Nx_DA,R=R,save_netcdf=True)\n",
    "# W_ds=xr.open_dataset('{}/W_Nx{}_L{}.nc'.format(data_dir,Nx_DA,int(R/1000)))\n",
    "\n",
    "select_x,select_y,select_l=10,10,0\n",
    "select_xy=select_x+select_y*Nx_DA+select_l*Nx_DA*Nx_DA\n",
    "W_xy=W_ds.W.data[select_xy,:].reshape(2,Nx_DA,Nx_DA)\n",
    "\n",
    "fig, axes=plt.subplots(1,2,figsize=(10,4))\n",
    "for i in range(2):\n",
    "    im=axes[i].contourf(W_ds.x/1.0E3,W_ds.y/1.0E3,W_xy[i,:,:],cmap='bwr',levels=np.linspace(-1.05,1.05,22,endpoint=True))\n",
    "    plt.colorbar(im,ax=axes[i])\n",
    "    axes[i].set_title('Lev {} Localization weight to (lev={},y={},x={})'.\n",
    "                      format(i,select_l,select_y,select_x))"
   ]
  },
  {
   "cell_type": "code",
   "execution_count": null,
   "metadata": {},
   "outputs": [],
   "source": [
    "DA.read_data_dir='/scratch/cimes/feiyul/PyQG/data/training'\n",
    "DA.save_data_dir='/scratch/cimes/feiyul/PyQG/data/training'\n",
    "for R_W in [100]:\n",
    "    for nens,relax in zip([80],[0.5]):\n",
    "        DA_paras={'nens':nens,\n",
    "                'DA_method':'EnKF',\n",
    "                'Nx_DA':32,\n",
    "                'Nx_truth':128,\n",
    "                'obs_freq':10,\n",
    "                'obs_err':[1,-5,5,-7],\n",
    "                'nobs':[50,50],\n",
    "                'R_W':R_W,\n",
    "                'DA_freq':10,\n",
    "                'save_B':True,\n",
    "                'inflate':[1,relax],\n",
    "                'output_str':''}\n",
    "        DA_exp=DA.DA_exp(**DA_paras)\n",
    "        DA_exp.run_exp(DA_days=3650,DA_start=0,**DA_kwargs)"
   ]
  }
 ],
 "metadata": {
  "kernelspec": {
   "display_name": "pyqg",
   "language": "python",
   "name": "python3"
  },
  "language_info": {
   "codemirror_mode": {
    "name": "ipython",
    "version": 3
   },
   "file_extension": ".py",
   "mimetype": "text/x-python",
   "name": "python",
   "nbconvert_exporter": "python",
   "pygments_lexer": "ipython3",
   "version": "3.10.14"
  }
 },
 "nbformat": 4,
 "nbformat_minor": 5
}
